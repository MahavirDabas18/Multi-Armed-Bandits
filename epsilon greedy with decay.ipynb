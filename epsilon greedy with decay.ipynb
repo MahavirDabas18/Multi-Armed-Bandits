{
 "cells": [
  {
   "cell_type": "markdown",
   "metadata": {},
   "source": [
    "<h1> Epsilon Decay Method </h1>"
   ]
  },
  {
   "cell_type": "code",
   "execution_count": 8,
   "metadata": {},
   "outputs": [],
   "source": [
    "import numpy as np\n",
    "import matplotlib.pyplot as plt\n",
    "import pandas as pd\n",
    "from tqdm import tqdm"
   ]
  },
  {
   "cell_type": "code",
   "execution_count": 9,
   "metadata": {},
   "outputs": [],
   "source": [
    "def normalise(array):\n",
    "    maximum=max(array)\n",
    "    minimum=min(array)\n",
    "    for i in range(len(array)):\n",
    "        array[i]=(array[i]-minimum)/(maximum-minimum)\n",
    "    return array"
   ]
  },
  {
   "cell_type": "code",
   "execution_count": 10,
   "metadata": {},
   "outputs": [],
   "source": [
    "def epsilon_greedy_decay(k,iterations,mu='random'):\n",
    "    \n",
    "    #k=number of arms\n",
    "    #iterations= number of pulls of the arms\n",
    "    #mu=an array of length k, which holds the true expected value of each arm\n",
    "    #mu=\"random\"-> the expected value is sampled from a normal distribution with standard deviation 1 (default)\n",
    "    #mu=user defined-> the user sends the true expected values of each arm\n",
    "    \n",
    "    if mu==\"random\":\n",
    "        mu=np.random.normal(0,1,k) #now mu is an array containing the true expected values of each arm\n",
    "    if len(mu)!=k: #case wwhen mu is user defined\n",
    "        print(\"The length of the entered array of true expected values does not match with the number of arms entered \\n\")\n",
    "        return\n",
    "    \n",
    "    q=np.zeros(k) #the array of the estimated expected values of each arm\n",
    "    pulls=0 #number of pulls at current iteration\n",
    "    arm_pull_number=np.zeros(k) #stores the number of times each arm has been pulled till the current iteration\n",
    "    reward=0 #the reward earned at the current iteration\n",
    "    a=0 #the arm pulled at the current iteration\n",
    "    total_reward=0 #the total rewards won till the current iteration\n",
    "    avg_reward=np.zeros(iterations) #the average reward per iteration till the current iteration\n",
    "    beta=1/k #scaling factor\n",
    "    \n",
    "    #decayed epsilon=1/(1+n*beta) ->n=steps taken till the current iteration\n",
    "    \n",
    "    for step in range(iterations):\n",
    "        p=np.random.rand() #randomly generates a number between 0 and 1\n",
    "        \n",
    "        if p<1/(1+step*beta): #case of exploration\n",
    "            a=np.random.choice(k) #action is chosen randomly from the k arms\n",
    "            \n",
    "        else: #case of exploitation\n",
    "            a=np.argmax(q) #returns the action with the highest estimated expected value at current iteration\n",
    "        \n",
    "        reward=np.random.normal(mu[a],1) #the reward is sampled from the normal distribution with mean equalling the true expected value of arm and a std-dev of 1  \n",
    "        \n",
    "        #updating counts\n",
    "        pulls+=1\n",
    "        arm_pull_number[a]+=1\n",
    "        \n",
    "        #updating the rewards\n",
    "        total_reward+=reward\n",
    "        avg_reward[step]=total_reward/pulls\n",
    "        \n",
    "        \n",
    "        #updating the estimated value of arm a pulled at the current iteration\n",
    "        q[a]=((q[a]*(arm_pull_number[a]-1))+reward)/arm_pull_number[a]\n",
    "        \n",
    "    avg_reward=normalise(avg_reward) #fits the average rewards between a scale of 0 and 1\n",
    "    \n",
    "    #returns the estimated expected values of the arms after all the iterations and\n",
    "    #the average normalised reward per iteration at each iteration\n",
    "    #the number of arm pulls of each arm\n",
    "    \n",
    "    return q,avg_reward,arm_pull_number "
   ]
  },
  {
   "cell_type": "code",
   "execution_count": 11,
   "metadata": {},
   "outputs": [],
   "source": [
    "def epsilon_greedy(k,eps,iterations,mu='random'):\n",
    "    \n",
    "    #k=number of arms\n",
    "    #eps=exploration fraction-> algorithm will explore with a probability of eps and exploit with a probability of (1-eps)\n",
    "    #iterations= number of pulls of the arms\n",
    "    #mu=an array of length k, which holds the true expected value of each arm\n",
    "    #mu=\"random\"-> the expected value is sampled from a normal distribution with standard deviation 1 (default)\n",
    "    #mu=user defined-> the user sends the true expected values of each arm\n",
    "    \n",
    "    if mu==\"random\":\n",
    "        mu=np.random.normal(0,1,k) #now mu is an array containing the true expected values of each arm\n",
    "    if len(mu)!=k: #case wwhen mu is user defined\n",
    "        print(\"The length of the entered array of true expected values does not match with the number of arms entered \\n\")\n",
    "        return\n",
    "    \n",
    "    q=np.zeros(k) #the array of the estimated expected values of each arm\n",
    "    pulls=0 #number of pulls at current iteration\n",
    "    arm_pull_number=np.zeros(k) #stores the number of times each arm has been pulled till the current iteration\n",
    "    reward=0 #the reward earned at the current iteration\n",
    "    a=0 #the arm pulled at the current iteration\n",
    "    total_reward=0 #the total rewards won till the current iteration\n",
    "    avg_reward=np.zeros(iterations) #the average reward per iteration till the current iteration\n",
    "    \n",
    "    for step in range(iterations):\n",
    "        p=np.random.rand() #randomly generates a number between 0 and 1\n",
    "        \n",
    "        if eps==0 and step==0: #eps value indicated exploitation but since the steps are also zero there is no knowledge to exploit-randomly select any arm\n",
    "            a=np.random.choice(k) #action is chosen\n",
    "        \n",
    "        elif p<eps: #case of exploration\n",
    "            a=np.random.choice(k) #action is chosen randomly from the k arms\n",
    "            \n",
    "        else: #case of exploitation\n",
    "            a=np.argmax(q) #returns the action with the highest estimated expected value at current iteration\n",
    "        \n",
    "        reward=np.random.normal(mu[a],1) #the reward is sampled from the normal distribution with mean equalling the true expected value of arm and a std-dev of 1  \n",
    "        \n",
    "        #updating counts\n",
    "        pulls+=1\n",
    "        arm_pull_number[a]+=1\n",
    "        \n",
    "        #updating the rewards\n",
    "        total_reward+=reward\n",
    "        avg_reward[step]=total_reward/pulls\n",
    "        \n",
    "        \n",
    "        #updating the estimated value of arm a pulled at the current iteration\n",
    "        q[a]=((q[a]*(arm_pull_number[a]-1))+reward)/arm_pull_number[a]\n",
    "        \n",
    "    avg_reward=normalise(avg_reward) #fits the average rewards between a scale of 0 and 1\n",
    "    \n",
    "    #returns the estimated expected values of the arms after all the iterations and\n",
    "    #the average normalised reward per iteration at each iteration\n",
    "    #the number of arm pulls of each arm\n",
    "    \n",
    "    return q,avg_reward,arm_pull_number "
   ]
  },
  {
   "cell_type": "code",
   "execution_count": 14,
   "metadata": {},
   "outputs": [
    {
     "name": "stderr",
     "output_type": "stream",
     "text": [
      "  0%|                                                                                         | 0/1000 [00:00<?, ?it/s]C:\\Anaconda3\\lib\\site-packages\\ipykernel_launcher.py:10: FutureWarning: elementwise comparison failed; returning scalar instead, but in the future will perform elementwise comparison\n",
      "  # Remove the CWD from sys.path while we load stuff.\n",
      "C:\\Anaconda3\\lib\\site-packages\\ipykernel_launcher.py:9: FutureWarning: elementwise comparison failed; returning scalar instead, but in the future will perform elementwise comparison\n",
      "  if __name__ == '__main__':\n",
      "100%|██████████████████████████████████████████████████████████████████████████████| 1000/1000 [00:18<00:00, 53.96it/s]\n"
     ]
    }
   ],
   "source": [
    "k=10 #number of arms\n",
    "episodes=1000 #no of times the total experiments are conducted\n",
    "iterations=1000 #no of pulls in 1 episode\n",
    "mu=np.random.normal(0,1,k) #true expected rewards of all the 10 arms-all rewards are sampled from normal distributions with sttd-dev 1 \n",
    "\n",
    "#long term rewards- avg rewards over all the episodes\n",
    "reward_1_long=np.zeros(iterations)\n",
    "reward_decay_long=np.zeros(iterations)\n",
    "\n",
    "\n",
    "#long term arm pulls- avg number of pulls of each arm over all the episodes\n",
    "arm_pulls1_long=np.zeros(k)\n",
    "arm_pulls_decay_long=np.zeros(k)\n",
    "\n",
    "\n",
    "for i in tqdm(range(episodes)):\n",
    "    q_1,avg_reward_1,arm_pull_number1=epsilon_greedy(k,0.1,iterations,mu)\n",
    "    q_decay,avg_reward_decay,arm_pull_number_decay=epsilon_greedy_decay(k,iterations,mu)\n",
    "    \n",
    "    #updating the long term rewards\n",
    "    reward_1_long=reward_1_long+(avg_reward_1-reward_1_long)/(i+1)\n",
    "    reward_decay_long=reward_decay_long+(avg_reward_decay-reward_decay_long)/(i+1)\n",
    "\n",
    "    \n",
    "    #updating the long term arm pulls\n",
    "    arm_pulls1_long=arm_pulls1_long+(arm_pull_number1-arm_pulls1_long)/(i+1)\n",
    "    arm_pulls_decay_long=arm_pulls_decay_long+(arm_pull_number_decay-arm_pulls_decay_long)/(i+1)"
   ]
  },
  {
   "cell_type": "markdown",
   "metadata": {},
   "source": [
    "<h1> Graphical Analysis-Epsilon Decay Method </h1>"
   ]
  },
  {
   "cell_type": "code",
   "execution_count": 15,
   "metadata": {},
   "outputs": [
    {
     "data": {
      "image/png": "[encoded data removed]",
      "text/plain": [
       "<Figure size 1008x720 with 1 Axes>"
      ]
     },
     "metadata": {},
     "output_type": "display_data"
    }
   ],
   "source": [
    "plt.figure(figsize=(14,10))\n",
    "plt.plot(reward_1_long, label=\"$\\epsilon=0.1$\")\n",
    "plt.plot(reward_decay_long, label=\"$\\epsilon$ decay\")\n",
    "plt.xlabel(\"Iterations\")\n",
    "plt.ylabel(\"Average Normalised Reward\")\n",
    "plt.title(\"Average Normalised $\\epsilon-greedy$ Rewards after \" + str(episodes) + \" Episodes\")\n",
    "plt.legend()\n",
    "plt.show()"
   ]
  },
  {
   "cell_type": "markdown",
   "metadata": {},
   "source": [
    "<h1> Quantitative Analysis-Epsilon Decay Method </h1>"
   ]
  },
  {
   "cell_type": "code",
   "execution_count": 16,
   "metadata": {},
   "outputs": [
    {
     "name": "stdout",
     "output_type": "stream",
     "text": [
      "the most optimal arm: \n",
      "9\n"
     ]
    }
   ],
   "source": [
    "print(\"the most optimal arm: \")\n",
    "optimal_index=np.argmax(mu) \n",
    "optimal_arm=optimal_index+1 #indexing starts from 0\n",
    "print(optimal_arm)"
   ]
  },
  {
   "cell_type": "code",
   "execution_count": 17,
   "metadata": {
    "scrolled": true
   },
   "outputs": [
    {
     "data": {
      "text/html": [
       "<div>\n",
       "<style scoped>\n",
       "    .dataframe tbody tr th:only-of-type {\n",
       "        vertical-align: middle;\n",
       "    }\n",
       "\n",
       "    .dataframe tbody tr th {\n",
       "        vertical-align: top;\n",
       "    }\n",
       "\n",
       "    .dataframe thead th {\n",
       "        text-align: right;\n",
       "    }\n",
       "</style>\n",
       "<table border=\"1\" class=\"dataframe\">\n",
       "  <thead>\n",
       "    <tr style=\"text-align: right;\">\n",
       "      <th></th>\n",
       "      <th>arm 1</th>\n",
       "      <th>arm 2</th>\n",
       "      <th>arm 3</th>\n",
       "      <th>arm 4</th>\n",
       "      <th>arm 5</th>\n",
       "      <th>arm 6</th>\n",
       "      <th>arm 7</th>\n",
       "      <th>arm 8</th>\n",
       "      <th>arm 9</th>\n",
       "      <th>arm 10</th>\n",
       "    </tr>\n",
       "  </thead>\n",
       "  <tbody>\n",
       "    <tr>\n",
       "      <th>True Expected Reward</th>\n",
       "      <td>0.519690</td>\n",
       "      <td>0.209794</td>\n",
       "      <td>-0.419145</td>\n",
       "      <td>-0.304001</td>\n",
       "      <td>-1.930538</td>\n",
       "      <td>0.661724</td>\n",
       "      <td>-1.514368</td>\n",
       "      <td>-0.134523</td>\n",
       "      <td>0.877235</td>\n",
       "      <td>0.091729</td>\n",
       "    </tr>\n",
       "    <tr>\n",
       "      <th>Estimated Expected Reward for $\\epsilon=0.1$</th>\n",
       "      <td>0.628127</td>\n",
       "      <td>0.516962</td>\n",
       "      <td>-0.263537</td>\n",
       "      <td>-0.277994</td>\n",
       "      <td>-1.856048</td>\n",
       "      <td>0.535302</td>\n",
       "      <td>-1.233873</td>\n",
       "      <td>-0.623897</td>\n",
       "      <td>0.866459</td>\n",
       "      <td>-0.078405</td>\n",
       "    </tr>\n",
       "    <tr>\n",
       "      <th>Estimated Expected Reward for $\\epsilon$ decay</th>\n",
       "      <td>0.654525</td>\n",
       "      <td>0.017389</td>\n",
       "      <td>-0.005402</td>\n",
       "      <td>-0.249022</td>\n",
       "      <td>-2.541031</td>\n",
       "      <td>0.758844</td>\n",
       "      <td>-1.624422</td>\n",
       "      <td>0.496079</td>\n",
       "      <td>0.885694</td>\n",
       "      <td>-0.169458</td>\n",
       "    </tr>\n",
       "  </tbody>\n",
       "</table>\n",
       "</div>"
      ],
      "text/plain": [
       "                                                   arm 1     arm 2     arm 3  \\\n",
       "True Expected Reward                            0.519690  0.209794 -0.419145   \n",
       "Estimated Expected Reward for $\\epsilon=0.1$    0.628127  0.516962 -0.263537   \n",
       "Estimated Expected Reward for $\\epsilon$ decay  0.654525  0.017389 -0.005402   \n",
       "\n",
       "                                                   arm 4     arm 5     arm 6  \\\n",
       "True Expected Reward                           -0.304001 -1.930538  0.661724   \n",
       "Estimated Expected Reward for $\\epsilon=0.1$   -0.277994 -1.856048  0.535302   \n",
       "Estimated Expected Reward for $\\epsilon$ decay -0.249022 -2.541031  0.758844   \n",
       "\n",
       "                                                   arm 7     arm 8     arm 9  \\\n",
       "True Expected Reward                           -1.514368 -0.134523  0.877235   \n",
       "Estimated Expected Reward for $\\epsilon=0.1$   -1.233873 -0.623897  0.866459   \n",
       "Estimated Expected Reward for $\\epsilon$ decay -1.624422  0.496079  0.885694   \n",
       "\n",
       "                                                  arm 10  \n",
       "True Expected Reward                            0.091729  \n",
       "Estimated Expected Reward for $\\epsilon=0.1$   -0.078405  \n",
       "Estimated Expected Reward for $\\epsilon$ decay -0.169458  "
      ]
     },
     "execution_count": 17,
     "metadata": {},
     "output_type": "execute_result"
    }
   ],
   "source": [
    "expected_values=np.vstack((mu,q_1,q_decay))\n",
    "data=pd.DataFrame(expected_values)\n",
    "data.columns=[\"arm \"+str(i) for i in range(1,11)]\n",
    "data.index=[\"True Expected Reward\", \"Estimated Expected Reward for $\\epsilon=0.1$\",\n",
    "            \"Estimated Expected Reward for $\\epsilon$ decay\"]\n",
    "data"
   ]
  },
  {
   "cell_type": "markdown",
   "metadata": {},
   "source": [
    "<h1> Percentage Arm Pulls-Epsilon Decay Method </h1>"
   ]
  },
  {
   "cell_type": "code",
   "execution_count": 18,
   "metadata": {},
   "outputs": [
    {
     "data": {
      "image/png": "[encoded data removed]",
      "text/plain": [
       "<Figure size 864x360 with 1 Axes>"
      ]
     },
     "metadata": {},
     "output_type": "display_data"
    }
   ],
   "source": [
    "#calculating the percentage optimum arm pulls over the total number of pulls for each epsilon\n",
    "\n",
    "percent_optimal_pull_1=round((arm_pulls1_long[optimal_index]/np.sum(arm_pulls1_long))*100)\n",
    "percent_optimal_pull_decay=round((arm_pulls_decay_long[optimal_index]/np.sum(arm_pulls_decay_long))*100)\n",
    "\n",
    "eps_val = [\"$\\epsilon=0.1$\",\"$\\epsilon$ decay\"]\n",
    "percent_optimal_pull=[percent_optimal_pull_1,percent_optimal_pull_decay]\n",
    "  \n",
    "#Creating a figure with some fig size\n",
    "fig, ax = plt.subplots(figsize = (12,5))\n",
    "ax.bar(eps_val,percent_optimal_pull,color=\"maroon\",width=0.4)\n",
    "#plt.text() , you need to give (x,y) location , where you want to put the numbers,\n",
    "#So here index will give you x pos and data+1 will provide a little gap in y axis.\n",
    "for index,data in enumerate(percent_optimal_pull):\n",
    "    plt.text(x=index , y =data+1 , s=f\"{data}\" , fontdict=dict(fontsize=10))\n",
    "plt.tight_layout()\n",
    "plt.xlabel(\"$\\epsilon$ Values\")\n",
    "plt.ylabel(\"Percentage of Optimal Arm Pulls\")\n",
    "plt.title(\"Percentage of Optimal Arm Pulls For Different $\\epsilon$ methods \")\n",
    "plt.show()"
   ]
  }
 ],
 "metadata": {
  "kernelspec": {
   "display_name": "Python 3",
   "language": "python",
   "name": "python3"
  },
  "language_info": {
   "codemirror_mode": {
    "name": "ipython",
    "version": 3
   },
   "file_extension": ".py",
   "mimetype": "text/x-python",
   "name": "python",
   "nbconvert_exporter": "python",
   "pygments_lexer": "ipython3",
   "version": "3.6.5"
  }
 },
 "nbformat": 4,
 "nbformat_minor": 2
}
