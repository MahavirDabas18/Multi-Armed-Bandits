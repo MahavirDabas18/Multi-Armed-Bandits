{
 "cells": [
  {
   "cell_type": "markdown",
   "metadata": {},
   "source": [
    "<h1> PAC- Median Elimination </h1>"
   ]
  },
  {
   "cell_type": "code",
   "execution_count": 1,
   "metadata": {},
   "outputs": [],
   "source": [
    "import numpy as np\n",
    "import matplotlib.pyplot as plt\n",
    "import pandas as pd\n",
    "from tqdm import tqdm"
   ]
  },
  {
   "cell_type": "code",
   "execution_count": 4,
   "metadata": {},
   "outputs": [],
   "source": [
    "def pac(k,eps,delta,mu='random'):\n",
    "    \n",
    "    #k=number of arms\n",
    "    #iterations= number of pulls of the arms\n",
    "    #mu=an array of length k, which holds the true expected value of each arm\n",
    "    #mu=\"random\"-> the expected value is sampled from a normal distribution with standard deviation 1 (default)\n",
    "    #mu=user defined-> the user sends the true expected values of each arm\n",
    "    #eps=the solution is an eps optimal arm (defines the aprroximity part)\n",
    "    #delta=the solution is an optimal solution with a probability of 1-delta (defines the probability part)\n",
    "    \n",
    "    if mu==\"random\":\n",
    "        mu=np.random.normal(0,1,k) #now mu is an array containing the true expected values of each arm\n",
    "    if len(mu)!=k: #case wwhen mu is user defined\n",
    "        print(\"The length of the entered array of true expected values does not match with the number of arms entered \\n\")\n",
    "        return\n",
    "    \n",
    "    q=np.zeros(k) #the array of the estimated expected values of each arm\n",
    "    arm_pull_number=np.zeros(k) #stores the number of times each arm has been pulled till the current pull\n",
    "    reward=0 #the reward earned at current pull\n",
    "    a=0 #the arm pulled \n",
    "\n",
    "    #the number of times each arm has to be sampled\n",
    "    l=round((4/(eps**2))*np.log((2*k)/delta))\n",
    "    \n",
    "    for a in tqdm(range(k)):\n",
    "        for sample in range(l):\n",
    "            reward=np.random.normal(mu[a],1) #the reward is sampled from the normal distribution with mean equalling the true expected value of arm and a std-dev of 1  \n",
    "            \n",
    "            #updating counts\n",
    "            arm_pull_number[a]+=1\n",
    "            \n",
    "            #updating the estimated value of arm a pulled at the current iteration\n",
    "            q[a]=((q[a]*(arm_pull_number[a]-1))+reward)/arm_pull_number[a]\n",
    "        \n",
    "            \n",
    "    optimal_arm=np.argmax(q)        \n",
    "    \n",
    "    #returns the epsilon optimal arm with a prob of (1-delta) \n",
    "    #returns the estimated expected values of the arms after all the pulls \n",
    "    #the number of samples drawn for each arm\n",
    "    \n",
    "    return optimal_arm,q,l"
   ]
  },
  {
   "cell_type": "code",
   "execution_count": 315,
   "metadata": {},
   "outputs": [],
   "source": [
    "def pac_median_elimination(k,eps,delta,mu='random'):\n",
    "    \n",
    "    #k=number of arms\n",
    "    #iterations= number of pulls of the arms\n",
    "    #mu=an array of length k, which holds the true expected value of each arm\n",
    "    #mu=\"random\"-> the expected value is sampled from a normal distribution with standard deviation 1 (default)\n",
    "    #mu=user defined-> the user sends the true expected values of each arm\n",
    "    #eps=the solution is an eps optimal arm (defines the aprroximity part)\n",
    "    #delta=the solution is an optimal solution with a probability of 1-delta (defines the probability part)\n",
    "    \n",
    "    if mu==\"random\":\n",
    "        mu=np.random.normal(0,1,k) #now mu is an array containing the true expected values of each arm\n",
    "    if len(mu)!=k: #case wwhen mu is user defined\n",
    "        print(\"The length of the entered array of true expected values does not match with the number of arms entered \\n\")\n",
    "        return\n",
    "    \n",
    "    #initially all arms are present\n",
    "    q=np.zeros(k) #the array of the estimated expected values of each arm which has not been eliminated\n",
    "    arm_pull_number=np.zeros(k) #stores the number of times each arm has been pulled till the current pull\n",
    "    reward=0 #the reward earned at current pull\n",
    "    a=0 #the arm pulled \n",
    "    \n",
    "    eps_l=eps/4\n",
    "    delta_l=delta/2\n",
    "    #initially no arm has been eliminated\n",
    "    arm_present=[i for i in range(k)] #list will contain the arms present after each elimination\n",
    "    \n",
    "    total_sample_arm=0 #will indicate at the end how many times the estimated optimal arm was sampled\n",
    "    \n",
    "    \n",
    "    #VVVIMP\n",
    "    #arm_present will hold the arm numbers of all present arms only\n",
    "    #q will hold the estimated expected rewards of the corresponding arms in arm_present\n",
    "\n",
    "    \n",
    "    while(len(arm_present)!=1): #loop until only one arm is present\n",
    "        \n",
    "        l=round((1/(eps_l/2)**2)*np.log(3/delta_l)) #number of times each arm has to be sampled at the current iteration\n",
    "        total_sample_arm+=l\n",
    "        \n",
    "        for a in tqdm(range(len(arm_present))): #for each arm in the list of non eliminated arms\n",
    "            for sample in range(l):\n",
    "                reward=np.random.normal(mu[a],1) #the reward is sampled from the normal distribution with mean equalling the true expected value of arm and a std-dev of 1  \n",
    "            \n",
    "                #updating counts\n",
    "                arm_pull_number[a]+=1\n",
    "            \n",
    "                #updating the estimated value of arm a pulled at the current iteration\n",
    "                q[a]=((q[a]*(arm_pull_number[a]-1))+reward)/arm_pull_number[a]\n",
    "        \n",
    "        #median elimination\n",
    "        med=np.median(q) #median of the estimated expected rewards of alll present arms \n",
    "        \n",
    "        #indices of all arms to be eliminated\n",
    "        index=[i for i in range(len(arm_present)) if q[i]>med] \n",
    "\n",
    "        #eliminating all the arms from the list of present arms whose estimated expected reward is less than the median\n",
    "        arm_present=[arm_present[i] for i in index]\n",
    "        arm_pull_number=[arm_pull_number[i] for i in index]\n",
    "        \n",
    "        #eliminating the rewards of the eliminated arm\n",
    "        q=[q[i] for i in index]\n",
    "        \n",
    "        #eliminating the true expexted reward of the eliminated arm\n",
    "        mu=[mu[i] for i in index]\n",
    "        \n",
    "        #updating eps_l and delta_l\n",
    "        eps_l=(3/4)*eps_l\n",
    "        delta_l=delta_l/2\n",
    "        \n",
    "            \n",
    "    optimal_arm=arm_present[0] #index of the optimal arm\n",
    "    q=q[0] #estimated expected reward of the optimal arm\n",
    "    \n",
    "    #returns the epsilon optimal arm with a prob of (1-delta) \n",
    "    #returns the estimated expected values of the arms after all the pulls \n",
    "    #the number of samples drawn for each arm\n",
    "    \n",
    "    return optimal_arm,q,l"
   ]
  },
  {
   "cell_type": "code",
   "execution_count": 316,
   "metadata": {},
   "outputs": [
    {
     "name": "stderr",
     "output_type": "stream",
     "text": [
      "C:\\Anaconda3\\lib\\site-packages\\ipykernel_launcher.py:11: FutureWarning: elementwise comparison failed; returning scalar instead, but in the future will perform elementwise comparison\n",
      "  # This is added back by InteractiveShellApp.init_path()\n",
      "100%|██████████████████████████████████████████████████████████████████████████████████| 10/10 [00:09<00:00,  1.07it/s]\n",
      "100%|██████████████████████████████████████████████████████████████████████████████████| 10/10 [01:59<00:00, 12.00s/it]\n",
      "100%|████████████████████████████████████████████████████████████████████████████████████| 5/5 [01:43<00:00, 20.69s/it]\n",
      "100%|████████████████████████████████████████████████████████████████████████████████████| 2/2 [01:17<00:00, 38.57s/it]\n"
     ]
    }
   ],
   "source": [
    "k=10 #number of arms\n",
    "mu=np.random.normal(0,1,k) #true expected rewards of each arm\n",
    "optimal_arm_naive,q_naive,samples_drawn_naive=pac(k,0.01,0.1,mu)\n",
    "optimal_arm_med,q_med,samples_drawn_med=pac_median_elimination(k,0.01,0.1,mu)"
   ]
  },
  {
   "cell_type": "markdown",
   "metadata": {},
   "source": [
    "<h1> Quantitative Analysis - Median Sampling vs Pac Bounds </h1>"
   ]
  },
  {
   "cell_type": "code",
   "execution_count": 323,
   "metadata": {},
   "outputs": [
    {
     "name": "stdout",
     "output_type": "stream",
     "text": [
      "the true expected rewards for each arm: \n",
      "[-1.0594003   0.30002799 -1.56002198 -0.25207715 -0.23152665 -1.27870865\n",
      " -0.09070675  0.84848132 -0.13511335  1.49404991]\n",
      "\n",
      "\n",
      "the index of the true optimal arm:  9\n"
     ]
    }
   ],
   "source": [
    "print(\"the true expected rewards for each arm: \")\n",
    "print(mu)\n",
    "print(\"\\n\")\n",
    "a=np.argmax(mu)\n",
    "print(\"the index of the true optimal arm: \",a)"
   ]
  },
  {
   "cell_type": "code",
   "execution_count": 326,
   "metadata": {},
   "outputs": [
    {
     "name": "stdout",
     "output_type": "stream",
     "text": [
      "the estimated expected rewards for the calculated optimal arm: \n",
      "1.4922850871326094\n",
      "\n",
      "\n",
      "the index of the estimated optimal arm:  9\n",
      "\n",
      "\n",
      "the difference between the true and the estimated expected reward of the optimal arm: \n",
      "0.0017648231423570415\n",
      "\n",
      "\n",
      "the number of pulls/samples drawn for each of the  10  arms:  211933\n"
     ]
    }
   ],
   "source": [
    "print(\"the estimated expected rewards for the calculated optimal arm: \")\n",
    "print(q_naive[a])\n",
    "print(\"\\n\")\n",
    "print(\"the index of the estimated optimal arm: \",optimal_arm_naive)\n",
    "print(\"\\n\")\n",
    "print(\"the difference between the true and the estimated expected reward of the optimal arm: \")\n",
    "print(abs(q_naive[a]-mu[a]))\n",
    "print(\"\\n\")\n",
    "print(\"the number of pulls/samples drawn for each of the \",k,\" arms: \",samples_drawn_naive)"
   ]
  },
  {
   "cell_type": "code",
   "execution_count": 328,
   "metadata": {},
   "outputs": [
    {
     "name": "stdout",
     "output_type": "stream",
     "text": [
      "the estimated expected rewards for the calculated optimal arm: \n",
      "1.49403518365574\n",
      "\n",
      "\n",
      "the index of the estimated optimal arm:  9\n",
      "\n",
      "\n",
      "the difference between the true and the estimated expected reward of the optimal arm: \n",
      "1.4726619226523852e-05\n",
      "\n",
      "\n",
      "the number of pulls/samples drawn for each of the  10  arms:  11085776\n"
     ]
    }
   ],
   "source": [
    "print(\"the estimated expected rewards for the calculated optimal arm: \")\n",
    "print(q_med)\n",
    "print(\"\\n\")\n",
    "print(\"the index of the estimated optimal arm: \",optimal_arm_med)\n",
    "print(\"\\n\")\n",
    "print(\"the difference between the true and the estimated expected reward of the optimal arm: \")\n",
    "print(abs(q_med-mu[a]))\n",
    "print(\"\\n\")\n",
    "print(\"the number of pulls/samples drawn for each of the \",k,\" arms: \",samples_drawn_med)"
   ]
  }
 ],
 "metadata": {
  "kernelspec": {
   "display_name": "Python 3",
   "language": "python",
   "name": "python3"
  },
  "language_info": {
   "codemirror_mode": {
    "name": "ipython",
    "version": 3
   },
   "file_extension": ".py",
   "mimetype": "text/x-python",
   "name": "python",
   "nbconvert_exporter": "python",
   "pygments_lexer": "ipython3",
   "version": "3.6.5"
  }
 },
 "nbformat": 4,
 "nbformat_minor": 2
}
