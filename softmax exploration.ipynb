{
 "cells": [
  {
   "cell_type": "code",
   "execution_count": 1,
   "metadata": {},
   "outputs": [],
   "source": [
    "import numpy as np\n",
    "import matplotlib.pyplot as plt\n",
    "import pandas as pd\n",
    "from tqdm import tqdm\n",
    "from math import exp"
   ]
  },
  {
   "cell_type": "code",
   "execution_count": 2,
   "metadata": {},
   "outputs": [],
   "source": [
    "def normalise(array):\n",
    "    maximum=max(array)\n",
    "    minimum=min(array)\n",
    "    for i in range(len(array)):\n",
    "        array[i]=(array[i]-minimum)/(maximum-minimum)\n",
    "    return array"
   ]
  },
  {
   "cell_type": "code",
   "execution_count": 3,
   "metadata": {},
   "outputs": [],
   "source": [
    "def epsilon_greedy(k,eps,iterations,mu='random'):\n",
    "    \n",
    "    #k=number of arms\n",
    "    #eps=exploration fraction-> algorithm will explore with a probability of eps and exploit with a probability of (1-eps)\n",
    "    #iterations= number of pulls of the arms\n",
    "    #mu=an array of length k, which holds the true expected value of each arm\n",
    "    #mu=\"random\"-> the expected value is sampled from a normal distribution with standard deviation 1 (default)\n",
    "    #mu=user defined-> the user sends the true expected values of each arm\n",
    "    \n",
    "    if mu==\"random\":\n",
    "        mu=np.random.normal(0,1,k) #now mu is an array containing the true expected values of each arm\n",
    "    if len(mu)!=k: #case wwhen mu is user defined\n",
    "        print(\"The length of the entered array of true expected values does not match with the number of arms entered \\n\")\n",
    "        return\n",
    "    \n",
    "    q=np.zeros(k) #the array of the estimated expected values of each arm\n",
    "    pulls=0 #number of pulls at current iteration\n",
    "    arm_pull_number=np.zeros(k) #stores the number of times each arm has been pulled till the current iteration\n",
    "    reward=0 #the reward earned at the current iteration\n",
    "    a=0 #the arm pulled at the current iteration\n",
    "    total_reward=0 #the total rewards won till the current iteration\n",
    "    avg_reward=np.zeros(iterations) #the average reward per iteration till the current iteration\n",
    "    \n",
    "    for step in range(iterations):\n",
    "        p=np.random.rand() #randomly generates a number between 0 and 1\n",
    "        \n",
    "        if eps==0 and step==0: #eps value indicated exploitation but since the steps are also zero there is no knowledge to exploit-randomly select any arm\n",
    "            a=np.random.choice(k) #action is chosen\n",
    "        \n",
    "        elif p<eps: #case of exploration\n",
    "            a=np.random.choice(k) #action is chosen randomly from the k arms\n",
    "            \n",
    "        else: #case of exploitation\n",
    "            a=np.argmax(q) #returns the action with the highest estimated expected value at current iteration\n",
    "        \n",
    "        reward=np.random.normal(mu[a],1) #the reward is sampled from the normal distribution with mean equalling the true expected value of arm and a std-dev of 1  \n",
    "        \n",
    "        #updating counts\n",
    "        pulls+=1\n",
    "        arm_pull_number[a]+=1\n",
    "        \n",
    "        #updating the rewards\n",
    "        total_reward+=reward\n",
    "        avg_reward[step]=total_reward/pulls\n",
    "        \n",
    "        \n",
    "        #updating the estimated value of arm a pulled at the current iteration\n",
    "        q[a]=((q[a]*(arm_pull_number[a]-1))+reward)/arm_pull_number[a]\n",
    "        \n",
    "    avg_reward=normalise(avg_reward) #fits the average rewards between a scale of 0 and 1\n",
    "    \n",
    "    #returns the estimated expected values of the arms after all the iterations and\n",
    "    #the average normalised reward per iteration at each iteration\n",
    "    #the number of arm pulls of each arm\n",
    "    \n",
    "    return q,avg_reward,arm_pull_number "
   ]
  },
  {
   "cell_type": "code",
   "execution_count": 4,
   "metadata": {},
   "outputs": [],
   "source": [
    "def ucb_1(k,iterations,mu='random'):\n",
    "    \n",
    "    #k=number of arms\n",
    "    #iterations= number of pulls of the arms\n",
    "    #mu=an array of length k, which holds the true expected value of each arm\n",
    "    #mu=\"random\"-> the expected value is sampled from a normal distribution with standard deviation 1 (default)\n",
    "    #mu=user defined-> the user sends the true expected values of each arm\n",
    "    \n",
    "    if mu==\"random\":\n",
    "        mu=np.random.normal(0,1,k) #now mu is an array containing the true expected values of each arm\n",
    "    if len(mu)!=k: #case wwhen mu is user defined\n",
    "        print(\"The length of the entered array of true expected values does not match with the number of arms entered \\n\")\n",
    "        return\n",
    "    \n",
    "    q=np.zeros(k) #the array of the estimated expected values of each arm\n",
    "    pulls=0 #number of pulls at current iteration\n",
    "    arm_pull_number=np.zeros(k) #stores the number of times each arm has been pulled till the current iteration\n",
    "    reward=0 #the reward earned at the current iteration\n",
    "    a=0 #the arm pulled at the current iteration\n",
    "    total_reward=0 #the total rewards won till the current iteration\n",
    "    avg_reward=np.zeros(iterations) #the average reward per iteration till the current iteration\n",
    "    \n",
    "    for step in range(iterations):\n",
    "        \n",
    "        if step==0: #at first step we have to play each arm atleast once\n",
    "            for a in range(k):\n",
    "                reward=reward=np.random.normal(mu[a],1) #the reward is sampled from the normal distribution with mean equalling the true expected value of arm and a std-dev of 1\n",
    "                #updating counts\n",
    "                pulls+=1\n",
    "                arm_pull_number[a]+=1\n",
    "                #updating the rewards\n",
    "                total_reward+=reward\n",
    "                avg_reward[step]=total_reward/pulls\n",
    "                #updating the estimated value of arm a pulled at the current iteration\n",
    "                q[a]=((q[a]*(arm_pull_number[a]-1))+reward)/arm_pull_number[a]\n",
    "        \n",
    "        \n",
    "        else:\n",
    "            \n",
    "            upper_bound_arm=q+np.sqrt(np.divide(2*np.log(step),arm_pull_number))\n",
    "            a=np.argmax(upper_bound_arm) #choosoing the arm with maximum upper bound\n",
    "        \n",
    "            reward=np.random.normal(mu[a],1) #the reward is sampled from the normal distribution with mean equalling the true expected value of arm and a std-dev of 1  \n",
    "        \n",
    "            #updating counts\n",
    "            pulls+=1\n",
    "            arm_pull_number[a]+=1\n",
    "        \n",
    "            #updating the rewards\n",
    "            total_reward+=reward\n",
    "            avg_reward[step]=total_reward/pulls\n",
    "        \n",
    "            #updating the estimated value of arm a pulled at the current iteration\n",
    "            q[a]=((q[a]*(arm_pull_number[a]-1))+reward)/arm_pull_number[a]\n",
    "        \n",
    "    avg_reward=normalise(avg_reward) #fits the average rewards between a scale of 0 and 1\n",
    "    \n",
    "    #returns the estimated expected values of the arms after all the iterations and\n",
    "    #the average normalised reward per iteration at each iteration\n",
    "    #the number of arm pulls of each arm\n",
    "    \n",
    "    return q,avg_reward,arm_pull_number "
   ]
  },
  {
   "cell_type": "code",
   "execution_count": 5,
   "metadata": {},
   "outputs": [],
   "source": [
    "def epsilon_greedy_decay(k,iterations,mu='random'):\n",
    "    \n",
    "    #k=number of arms\n",
    "    #iterations= number of pulls of the arms\n",
    "    #mu=an array of length k, which holds the true expected value of each arm\n",
    "    #mu=\"random\"-> the expected value is sampled from a normal distribution with standard deviation 1 (default)\n",
    "    #mu=user defined-> the user sends the true expected values of each arm\n",
    "    \n",
    "    if mu==\"random\":\n",
    "        mu=np.random.normal(0,1,k) #now mu is an array containing the true expected values of each arm\n",
    "    if len(mu)!=k: #case wwhen mu is user defined\n",
    "        print(\"The length of the entered array of true expected values does not match with the number of arms entered \\n\")\n",
    "        return\n",
    "    \n",
    "    q=np.zeros(k) #the array of the estimated expected values of each arm\n",
    "    pulls=0 #number of pulls at current iteration\n",
    "    arm_pull_number=np.zeros(k) #stores the number of times each arm has been pulled till the current iteration\n",
    "    reward=0 #the reward earned at the current iteration\n",
    "    a=0 #the arm pulled at the current iteration\n",
    "    total_reward=0 #the total rewards won till the current iteration\n",
    "    avg_reward=np.zeros(iterations) #the average reward per iteration till the current iteration\n",
    "    beta=1/k #scaling factor\n",
    "    \n",
    "    #decayed epsilon=1/(1+n*beta) ->n=steps taken till the current iteration\n",
    "    \n",
    "    for step in range(iterations):\n",
    "        p=np.random.rand() #randomly generates a number between 0 and 1\n",
    "        \n",
    "        if p<1/(1+step*beta): #case of exploration\n",
    "            a=np.random.choice(k) #action is chosen randomly from the k arms\n",
    "            \n",
    "        else: #case of exploitation\n",
    "            a=np.argmax(q) #returns the action with the highest estimated expected value at current iteration\n",
    "        \n",
    "        reward=np.random.normal(mu[a],1) #the reward is sampled from the normal distribution with mean equalling the true expected value of arm and a std-dev of 1  \n",
    "        \n",
    "        #updating counts\n",
    "        pulls+=1\n",
    "        arm_pull_number[a]+=1\n",
    "        \n",
    "        #updating the rewards\n",
    "        total_reward+=reward\n",
    "        avg_reward[step]=total_reward/pulls\n",
    "        \n",
    "        \n",
    "        #updating the estimated value of arm a pulled at the current iteration\n",
    "        q[a]=((q[a]*(arm_pull_number[a]-1))+reward)/arm_pull_number[a]\n",
    "        \n",
    "    avg_reward=normalise(avg_reward) #fits the average rewards between a scale of 0 and 1\n",
    "    \n",
    "    #returns the estimated expected values of the arms after all the iterations and\n",
    "    #the average normalised reward per iteration at each iteration\n",
    "    #the number of arm pulls of each arm\n",
    "    \n",
    "    return q,avg_reward,arm_pull_number "
   ]
  },
  {
   "cell_type": "code",
   "execution_count": 6,
   "metadata": {},
   "outputs": [],
   "source": [
    "def softmax(k,eps,beta,iterations,mu='random'):\n",
    "    \n",
    "    #k=number of arms\n",
    "    #eps=exploration fraction-> algorithm will explore with a probability of eps and exploit with a probability of (1-eps)\n",
    "    #iterations= number of pulls of the arms\n",
    "    #mu=an array of length k, which holds the true expected value of each arm\n",
    "    #mu=\"random\"-> the expected value is sampled from a normal distribution with standard deviation 1 (default)\n",
    "    #mu=user defined-> the user sends the true expected values of each arm\n",
    "    #beta=temperature coefficient\n",
    "    #if beta is very large-shift towards uniform selection during exploration\n",
    "    #if beta is very small-the prob of arm being during exploration becomes more dependent on the current expected reward\n",
    "    \n",
    "    if mu==\"random\":\n",
    "        mu=np.random.normal(0,1,k) #now mu is an array containing the true expected values of each arm\n",
    "    if len(mu)!=k: #case wwhen mu is user defined\n",
    "        print(\"The length of the entered array of true expected values does not match with the number of arms entered \\n\")\n",
    "        return\n",
    "    \n",
    "    q=np.zeros(k) #the array of the estimated expected values of each arm\n",
    "    pulls=0 #number of pulls at current iteration\n",
    "    arm_pull_number=np.zeros(k) #stores the number of times each arm has been pulled till the current iteration\n",
    "    exponential_q=np.zeros(k) #stores the exponential value of the estimated expected rewards\n",
    "    prob_exploration=np.zeros(k) #stores the probability of each arm being picked during exploration\n",
    "    reward=0 #the reward earned at the current iteration\n",
    "    a=0 #the arm pulled at the current iteration\n",
    "    total_reward=0 #the total rewards won till the current iteration\n",
    "    avg_reward=np.zeros(iterations) #the average reward per iteration till the current iteration\n",
    "    \n",
    "    for step in range(iterations):\n",
    "        p=np.random.rand() #randomly generates a number between 0 and 1\n",
    "        \n",
    "        if eps==0 and step==0: #eps value indicated exploitation but since the steps are also zero there is no knowledge to exploit-randomly select any arm\n",
    "            a=np.random.choice(k) #action is chosen\n",
    "        \n",
    "        elif p<eps: #case of exploration\n",
    "            \n",
    "            prob_exploration_sorted=sorted(prob_exploration) #sorted list of prob\n",
    "            prob_exploration_sorted_cumsum=np.cumsum(prob_exploration_sorted) #cumulative list of sorted prob\n",
    "            p1=np.random.rand() #generating a random number \n",
    "            \n",
    "            #the arm with the highest probability will have higher chance of getting pulled\n",
    "            for i in range(len(prob_exploration_sorted_cumsum)): \n",
    "                if p1<=prob_exploration_sorted_cumsum[i]:\n",
    "                    damn=list(prob_exploration)\n",
    "                    a=damn.index(prob_exploration_sorted[i])\n",
    "                    #a=prob_exploration.index(prob_exploration_sorted[i])\n",
    "                    break    \n",
    "            \n",
    "        else: #case of exploitation\n",
    "            a=np.argmax(q) #returns the action with the highest estimated expected value at current iteration\n",
    "        \n",
    "        reward=np.random.normal(mu[a],1) #the reward is sampled from the normal distribution with mean equalling the true expected value of arm and a std-dev of 1  \n",
    "        \n",
    "        #updating counts\n",
    "        pulls+=1\n",
    "        arm_pull_number[a]+=1\n",
    "        \n",
    "        #updating the rewards\n",
    "        total_reward+=reward\n",
    "        avg_reward[step]=total_reward/pulls\n",
    "        \n",
    "        \n",
    "        #updating the estimated value of arm a pulled at the current iteration\n",
    "        q[a]=((q[a]*(arm_pull_number[a]-1))+reward)/arm_pull_number[a]\n",
    "        \n",
    "        #updating the exponential estimated expected rewards\n",
    "        exponential_q[a]=exp(q[a]/beta)\n",
    "        \n",
    "        #updating the probability of the arm being picked during exploration based on the new estimated reward\n",
    "        prob_exploration[a]=exp(q[a])/np.sum(exp(q[a]))\n",
    "        \n",
    "    avg_reward=normalise(avg_reward) #fits the average rewards between a scale of 0 and 1\n",
    "    \n",
    "    #returns the estimated expected values of the arms after all the iterations and\n",
    "    #the average normalised reward per iteration at each iteration\n",
    "    #the number of arm pulls of each arm\n",
    "    \n",
    "    return q,avg_reward,arm_pull_number "
   ]
  },
  {
   "cell_type": "code",
   "execution_count": 10,
   "metadata": {},
   "outputs": [
    {
     "name": "stderr",
     "output_type": "stream",
     "text": [
      "  0%|                                                                                         | 0/1000 [00:00<?, ?it/s]C:\\Anaconda3\\lib\\site-packages\\ipykernel_launcher.py:10: FutureWarning: elementwise comparison failed; returning scalar instead, but in the future will perform elementwise comparison\n",
      "  # Remove the CWD from sys.path while we load stuff.\n",
      "C:\\Anaconda3\\lib\\site-packages\\ipykernel_launcher.py:13: FutureWarning: elementwise comparison failed; returning scalar instead, but in the future will perform elementwise comparison\n",
      "  del sys.path[0]\n",
      "100%|██████████████████████████████████████████████████████████████████████████████| 1000/1000 [00:29<00:00, 33.81it/s]\n"
     ]
    }
   ],
   "source": [
    "k=10 #number of arms\n",
    "episodes=1000 #no of times the total experiments are conducted\n",
    "iterations=1000 #no of pulls in 1 episode\n",
    "mu=np.random.normal(0,1,k) #true expected rewards of all the 10 arms-all rewards are sampled from normal distributions with sttd-dev 1 \n",
    "#long term rewards- avg rewards over all the episodes\n",
    "reward_1_long=np.zeros(iterations)\n",
    "reward_softmax_long=np.zeros(iterations)\n",
    "\n",
    "\n",
    "#long term arm pulls- avg number of pulls of each arm over all the episodes\n",
    "arm_pulls1_long=np.zeros(k)\n",
    "arm_pulls_softmax_long=np.zeros(k)\n",
    "\n",
    "\n",
    "for i in tqdm(range(episodes)):\n",
    "    q_1,avg_reward_1,arm_pull_number1=epsilon_greedy(k,0.1,iterations,mu)\n",
    "    q_softmax,avg_reward_softmax,arm_pull_number_softmax=softmax(k,0.1,1,iterations,mu)\n",
    "    \n",
    "    #updating the long term rewards\n",
    "    reward_1_long=reward_1_long+(avg_reward_1-reward_1_long)/(i+1)\n",
    "    reward_softmax_long=reward_softmax_long+(avg_reward_softmax-reward_softmax_long)/(i+1)\n",
    "    \n",
    "    #updating the long term arm pulls\n",
    "    arm_pulls1_long=arm_pulls1_long+(arm_pull_number1-arm_pulls1_long)/(i+1)\n",
    "    arm_pulls_softmax_long=arm_pulls_softmax_long+(arm_pull_number_softmax-arm_pulls_softmax_long)/(i+1)"
   ]
  },
  {
   "cell_type": "code",
   "execution_count": 11,
   "metadata": {},
   "outputs": [
    {
     "data": {
      "image/png": "[encoded data removed]",
      "text/plain": [
       "<Figure size 1008x720 with 1 Axes>"
      ]
     },
     "metadata": {},
     "output_type": "display_data"
    }
   ],
   "source": [
    "plt.figure(figsize=(14,10))\n",
    "plt.plot(reward_1_long, label=\"$\\epsilon=0.1$\")\n",
    "plt.plot(reward_softmax_long, label=\"softmax with $\\epsilon=0.1$ and beta=1\")\n",
    "plt.xlabel(\"Iterations\")\n",
    "plt.ylabel(\"Average Normalised Reward\")\n",
    "plt.title(\"Average Normalised Rewards after \" + str(episodes) + \" Episodes\")\n",
    "plt.legend()\n",
    "plt.show()"
   ]
  },
  {
   "cell_type": "code",
   "execution_count": null,
   "metadata": {},
   "outputs": [],
   "source": []
  },
  {
   "cell_type": "code",
   "execution_count": 10,
   "metadata": {},
   "outputs": [
    {
     "name": "stderr",
     "output_type": "stream",
     "text": [
      "100%|██████████████████████████████████████████████████████████████████████████████| 1000/1000 [00:56<00:00, 17.55it/s]\n"
     ]
    }
   ],
   "source": [
    "k=10 #number of arms\n",
    "episodes=1000 #no of times the total experiments are conducted\n",
    "iterations=1000 #no of pulls in 1 episode\n",
    "#mu=np.random.normal(0,1,k) #true expected rewards of all the 10 arms-all rewards are sampled from normal distributions with sttd-dev 1 \n",
    "mu=[i for i in range(10)]\n",
    "#long term rewards- avg rewards over all the episodes\n",
    "reward_1_long=np.zeros(iterations)\n",
    "reward_10_long=np.zeros(iterations)\n",
    "reward_01_long=np.zeros(iterations)\n",
    "\n",
    "#long term arm pulls- avg number of pulls of each arm over all the episodes\n",
    "arm_pulls1_long=np.zeros(k)\n",
    "arm_pulls10_long=np.zeros(k)\n",
    "arm_pulls01_long=np.zeros(k)\n",
    "\n",
    "\n",
    "\n",
    "for i in tqdm(range(episodes)):\n",
    "    q_1,avg_reward_1,arm_pull_number1=softmax(k,0.1,0.1,iterations,mu)\n",
    "    q_10,avg_reward_10,arm_pull_number10=softmax(k,0.1,1,iterations,mu)\n",
    "    q_01,avg_reward_01,arm_pull_number01= softmax(k,0.1,10,iterations,mu)\n",
    "\n",
    "    #updating the long term rewards\n",
    "    reward_1_long=reward_1_long+(avg_reward_1-reward_1_long)/(i+1)\n",
    "    reward_10_long=reward_10_long+(avg_reward_10-reward_10_long)/(i+1)\n",
    "    reward_01_long=reward_01_long+(avg_reward_01-reward_01_long)/(i+1)\n",
    "    \n",
    "    #updating the long term arm pulls\n",
    "    arm_pulls1_long=arm_pulls1_long+(arm_pull_number1-arm_pulls1_long)/(i+1)\n",
    "    arm_pulls10_long=arm_pulls10_long+(arm_pull_number10-arm_pulls10_long)/(i+1)\n",
    "    arm_pulls01_long=arm_pulls01_long+(arm_pull_number01-arm_pulls01_long)/(i+1)"
   ]
  },
  {
   "cell_type": "code",
   "execution_count": 11,
   "metadata": {},
   "outputs": [
    {
     "data": {
      "image/png": "[encoded data removed]",
      "text/plain": [
       "<Figure size 1008x720 with 1 Axes>"
      ]
     },
     "metadata": {},
     "output_type": "display_data"
    }
   ],
   "source": [
    "plt.figure(figsize=(14,10))\n",
    "plt.plot(reward_1_long, label=\"beta=0.1\")\n",
    "plt.plot(reward_10_long, label=\"beta=0.15\")\n",
    "plt.plot(reward_01_long, label=\"beta=0.2\")\n",
    "plt.xlabel(\"Iterations\")\n",
    "plt.ylabel(\"Average Normalised Reward\")\n",
    "plt.title(\"Average Normalised Rewards after \" + str(episodes) + \" Episodes\")\n",
    "plt.legend()\n",
    "plt.show()"
   ]
  },
  {
   "cell_type": "code",
   "execution_count": null,
   "metadata": {},
   "outputs": [],
   "source": []
  },
  {
   "cell_type": "code",
   "execution_count": null,
   "metadata": {},
   "outputs": [],
   "source": []
  },
  {
   "cell_type": "code",
   "execution_count": null,
   "metadata": {},
   "outputs": [],
   "source": []
  },
  {
   "cell_type": "code",
   "execution_count": null,
   "metadata": {},
   "outputs": [],
   "source": []
  },
  {
   "cell_type": "code",
   "execution_count": null,
   "metadata": {},
   "outputs": [],
   "source": []
  },
  {
   "cell_type": "code",
   "execution_count": null,
   "metadata": {},
   "outputs": [],
   "source": []
  },
  {
   "cell_type": "code",
   "execution_count": null,
   "metadata": {},
   "outputs": [],
   "source": []
  },
  {
   "cell_type": "code",
   "execution_count": null,
   "metadata": {},
   "outputs": [],
   "source": []
  },
  {
   "cell_type": "code",
   "execution_count": null,
   "metadata": {},
   "outputs": [],
   "source": []
  },
  {
   "cell_type": "code",
   "execution_count": null,
   "metadata": {},
   "outputs": [],
   "source": []
  },
  {
   "cell_type": "code",
   "execution_count": null,
   "metadata": {},
   "outputs": [],
   "source": []
  },
  {
   "cell_type": "code",
   "execution_count": null,
   "metadata": {},
   "outputs": [],
   "source": []
  },
  {
   "cell_type": "code",
   "execution_count": null,
   "metadata": {},
   "outputs": [],
   "source": []
  },
  {
   "cell_type": "code",
   "execution_count": null,
   "metadata": {},
   "outputs": [],
   "source": []
  },
  {
   "cell_type": "code",
   "execution_count": null,
   "metadata": {},
   "outputs": [],
   "source": []
  },
  {
   "cell_type": "code",
   "execution_count": null,
   "metadata": {},
   "outputs": [],
   "source": []
  },
  {
   "cell_type": "code",
   "execution_count": null,
   "metadata": {},
   "outputs": [],
   "source": []
  },
  {
   "cell_type": "code",
   "execution_count": 108,
   "metadata": {},
   "outputs": [],
   "source": [
    "prob=[12,9,1] "
   ]
  },
  {
   "cell_type": "code",
   "execution_count": 109,
   "metadata": {},
   "outputs": [],
   "source": [
    "sort_prob = sorted(prob)"
   ]
  },
  {
   "cell_type": "code",
   "execution_count": 103,
   "metadata": {},
   "outputs": [
    {
     "data": {
      "text/plain": [
       "[1, 9, 12]"
      ]
     },
     "execution_count": 103,
     "metadata": {},
     "output_type": "execute_result"
    }
   ],
   "source": [
    "sort_prob"
   ]
  },
  {
   "cell_type": "code",
   "execution_count": 104,
   "metadata": {},
   "outputs": [
    {
     "data": {
      "text/plain": [
       "array([ 1, 10, 22], dtype=int32)"
      ]
     },
     "execution_count": 104,
     "metadata": {},
     "output_type": "execute_result"
    }
   ],
   "source": [
    "sort_prob_cumsum=np.cumsum(sort_prob)\n",
    "sort_prob_cumsum"
   ]
  },
  {
   "cell_type": "code",
   "execution_count": 105,
   "metadata": {},
   "outputs": [],
   "source": [
    "#p=np.random.rand()\n",
    "p=8\n",
    "for i in range(len(sort_prob_cumsum)):\n",
    "    if p<=sort_prob_cumsum[i]:\n",
    "        arm=prob.index(sort_prob[i])\n",
    "        break"
   ]
  },
  {
   "cell_type": "code",
   "execution_count": 106,
   "metadata": {},
   "outputs": [
    {
     "data": {
      "text/plain": [
       "8"
      ]
     },
     "execution_count": 106,
     "metadata": {},
     "output_type": "execute_result"
    }
   ],
   "source": [
    "p\n"
   ]
  },
  {
   "cell_type": "code",
   "execution_count": 107,
   "metadata": {},
   "outputs": [
    {
     "data": {
      "text/plain": [
       "1"
      ]
     },
     "execution_count": 107,
     "metadata": {},
     "output_type": "execute_result"
    }
   ],
   "source": [
    "arm"
   ]
  },
  {
   "cell_type": "code",
   "execution_count": null,
   "metadata": {},
   "outputs": [],
   "source": []
  }
 ],
 "metadata": {
  "kernelspec": {
   "display_name": "Python 3",
   "language": "python",
   "name": "python3"
  },
  "language_info": {
   "codemirror_mode": {
    "name": "ipython",
    "version": 3
   },
   "file_extension": ".py",
   "mimetype": "text/x-python",
   "name": "python",
   "nbconvert_exporter": "python",
   "pygments_lexer": "ipython3",
   "version": "3.6.5"
  }
 },
 "nbformat": 4,
 "nbformat_minor": 2
}
